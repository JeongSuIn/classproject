{
 "cells": [
  {
   "cell_type": "code",
   "execution_count": 5,
   "metadata": {
    "collapsed": true
   },
   "outputs": [
    {
     "name": "stdout",
     "output_type": "stream",
     "text": [
      "['AA', 'BB', 'CC']\n",
      "\n",
      "['AA', 'BB', 'CC']\n",
      "[(0, 'AA'), (1, 'BB'), (2, 'CC')]\n",
      "0 AA\n",
      "\n",
      "0 AA\n",
      "1 BB\n",
      "2 CC\n"
     ]
    }
   ],
   "source": [
    "list_ex = ['AA', 'BB', 'CC']\n",
    "\n",
    "# list_ex 출력\n",
    "print(list_ex)\n",
    "print()\n",
    "\n",
    "# list_ex -> enumerate() : 요소들의 index를 사용하기 위해 enumerate 객체 필요\n",
    "list_ex_en = enumerate(list_ex)\n",
    "print(list_ex)\n",
    "\n",
    "# enumerate 객체 -> list 객체\n",
    "list_ex2 = list(list_ex_en)\n",
    "print(list_ex2)\n",
    "\n",
    "# 변수의 초기화 || 할당\n",
    "i, v = list_ex2[0]\n",
    "print(i, v)\n",
    "\n",
    "print()\n",
    "\n",
    "for i, v in list_ex2: \n",
    "    print(i, v)"
   ]
  },
  {
   "cell_type": "code",
   "execution_count": 11,
   "metadata": {},
   "outputs": [
    {
     "name": "stdout",
     "output_type": "stream",
     "text": [
      "{'name': '메시', 'number': '10', 'teamname': 'FCB'}\n",
      "dict_items([('name', '메시'), ('number', '10'), ('teamname', 'FCB')])\n",
      "*****메시의 정보*****\n",
      "name : 메시\n",
      "number : 10\n",
      "teamname : FCB\n"
     ]
    }
   ],
   "source": [
    "# dic의 속성을 일괄 처리 -> items() 함수 사용\n",
    "# items(): dic의 속성과 값을 하나로 묶어 요소로 만들고 이 요소들을 가지는 리스트를 반환\n",
    "\n",
    "dic_player = {\n",
    "    'name': '메시',\n",
    "    'number': '10',\n",
    "    'teamname': 'FCB'\n",
    "}\n",
    "print(dic_player)\n",
    "\n",
    "# dic -> list\n",
    "list_player_att = dic_player.items()\n",
    "print(list_player_att)\n",
    "\n",
    "print('*****메시의 정보*****')\n",
    "for key, value in list_player_att: \n",
    "    print(key, ':', value)"
   ]
  },
  {
   "cell_type": "code",
   "execution_count": 20,
   "metadata": {},
   "outputs": [
    {
     "name": "stdout",
     "output_type": "stream",
     "text": [
      "array1:  [0, 4, 16, 36, 64, 100, 144, 196, 256, 324]\n",
      "array2:  [0, 4, 16, 36, 64, 100, 144, 196, 256, 324]\n",
      "array3:  [144, 196, 256, 324]\n"
     ]
    }
   ],
   "source": [
    "# list 요소 생성\n",
    "# 1\n",
    "array1 = []\n",
    "\n",
    "for i in range(0, 20, 2):\n",
    "    array1.append(i*i)\n",
    "    \n",
    "print('array1: ',array1)\n",
    "\n",
    "# 2\n",
    "array2 = [i*i for i in range(0, 20, 2)]\n",
    "print('array2: ',array2)\n",
    "\n",
    "# 3\n",
    "array3 = [i for i in array2 if i>100 ]\n",
    "print('array3: ', array3)"
   ]
  },
  {
   "cell_type": "code",
   "execution_count": 22,
   "metadata": {},
   "outputs": [
    {
     "name": "stdout",
     "output_type": "stream",
     "text": [
      "A\n",
      "A\n",
      "A\n"
     ]
    }
   ],
   "source": [
    "# 함수 정의\n",
    "# def 함수 이름(매개변수, 매개변수, ...)\n",
    "\n",
    "def print_3_times():\n",
    "    print('A')\n",
    "    print('A')\n",
    "    print('A')\n",
    "print_3_times()"
   ]
  },
  {
   "cell_type": "code",
   "execution_count": 29,
   "metadata": {
    "collapsed": true
   },
   "outputs": [
    {
     "name": "stdout",
     "output_type": "stream",
     "text": [
      "Python\n",
      "Python\n",
      "Python\n",
      "Python\n",
      "Python\n",
      "함수의 기능 실행 완료\n"
     ]
    },
    {
     "ename": "TypeError",
     "evalue": "print_n_times() missing 1 required positional argument: 'n'",
     "output_type": "error",
     "traceback": [
      "\u001b[1;31m---------------------------------------------------------------------------\u001b[0m",
      "\u001b[1;31mTypeError\u001b[0m                                 Traceback (most recent call last)",
      "\u001b[1;32m<ipython-input-29-b56e3bd12efa>\u001b[0m in \u001b[0;36m<module>\u001b[1;34m\u001b[0m\n\u001b[0;32m      6\u001b[0m \u001b[1;33m\u001b[0m\u001b[0m\n\u001b[0;32m      7\u001b[0m \u001b[1;31m# 오류\u001b[0m\u001b[1;33m\u001b[0m\u001b[1;33m\u001b[0m\u001b[1;33m\u001b[0m\u001b[0m\n\u001b[1;32m----> 8\u001b[1;33m \u001b[0mprint_n_times\u001b[0m\u001b[1;33m(\u001b[0m\u001b[1;34m'Python'\u001b[0m\u001b[1;33m)\u001b[0m\u001b[1;33m\u001b[0m\u001b[1;33m\u001b[0m\u001b[0m\n\u001b[0m",
      "\u001b[1;31mTypeError\u001b[0m: print_n_times() missing 1 required positional argument: 'n'"
     ]
    }
   ],
   "source": [
    "def print_n_times(val, n):\n",
    "    for i in range(n):\n",
    "        print(val)\n",
    "    print('함수의 기능 실행 완료')\n",
    "print_n_times('Python', 5)\n",
    "\n",
    "# 오류\n",
    "print_n_times('Python')"
   ]
  },
  {
   "cell_type": "code",
   "execution_count": 35,
   "metadata": {
    "collapsed": true
   },
   "outputs": [
    {
     "name": "stdout",
     "output_type": "stream",
     "text": [
      "ali\n",
      "love\n",
      "you\n",
      "\n",
      "ali\n",
      "love\n",
      "you\n",
      "\n",
      "ali\n",
      "love\n",
      "you\n",
      "\n",
      "함수 종료\n"
     ]
    }
   ],
   "source": [
    "# 함수의 가변 매개변수\n",
    "def print_times(n, *vals):\n",
    "    for i in range(n):\n",
    "        for val in vals:\n",
    "            print(val)\n",
    "        print()\n",
    "    print('함수 종료')\n",
    "print_times(3, 'ali', 'love', 'you')"
   ]
  },
  {
   "cell_type": "code",
   "execution_count": 41,
   "metadata": {
    "collapsed": true
   },
   "outputs": [
    {
     "name": "stdout",
     "output_type": "stream",
     "text": [
      "aa bb cc\taa,bb,cc\n",
      "aa/bb/cc\n",
      "11:11:11\n"
     ]
    }
   ],
   "source": [
    "# 기본 매개변수 \n",
    "# print -> sep=' ', end='\\n', file=sys.stdout, flush=False\n",
    "print('aa', 'bb', 'cc', end='\\t')\n",
    "print('aa', 'bb', 'cc', sep=',')\n",
    "print('aa', 'bb', 'cc', sep='/' )\n",
    "print('11', '11', '11', sep=':')"
   ]
  },
  {
   "cell_type": "code",
   "execution_count": 43,
   "metadata": {
    "collapsed": true
   },
   "outputs": [
    {
     "name": "stdout",
     "output_type": "stream",
     "text": [
      "ali\n",
      "love\n",
      "you\n",
      "3\n",
      "\n",
      "ali\n",
      "love\n",
      "you\n",
      "3\n",
      "\n",
      "함수 종료\n"
     ]
    }
   ],
   "source": [
    "# 함수의 가변 매개변수\n",
    "def print_n_times(*vals, n=2):\n",
    "    for i in range(n):\n",
    "        for val in vals:\n",
    "            print(val)\n",
    "        print()\n",
    "    print('함수 종료')\n",
    "print_n_times('ali', 'love', 'you', 3)"
   ]
  },
  {
   "cell_type": "code",
   "execution_count": 45,
   "metadata": {},
   "outputs": [
    {
     "name": "stdout",
     "output_type": "stream",
     "text": [
      "10\n"
     ]
    }
   ],
   "source": [
    "# 함수의 return \n",
    "\n",
    "def func():\n",
    "    return 10\n",
    "print(func())"
   ]
  },
  {
   "cell_type": "code",
   "execution_count": 49,
   "metadata": {},
   "outputs": [
    {
     "name": "stdout",
     "output_type": "stream",
     "text": [
      "10 20 30 40 50 60\n",
      "20 10 30 40 50 60\n"
     ]
    }
   ],
   "source": [
    "# 튜플\n",
    "[a, b] = [10, 20]\n",
    "(c, d) = (30, 40)\n",
    "\n",
    "e, f = 50, 60\n",
    "\n",
    "print(a, b, c, d, e, f)\n",
    "\n",
    "a, b = b, a\n",
    "\n",
    "print(a, b, c, d, e, f)"
   ]
  },
  {
   "cell_type": "code",
   "execution_count": 55,
   "metadata": {},
   "outputs": [
    {
     "name": "stdout",
     "output_type": "stream",
     "text": [
      "<map object at 0x000001F0B5CA52E0>\n",
      "[1, 4, 9, 16, 25]\n",
      "<filter object at 0x000001F0B5CDD790>\n",
      "[1, 2]\n"
     ]
    }
   ],
   "source": [
    "def power(item):\n",
    "    return item*item\n",
    "\n",
    "def under_3(item):\n",
    "    return item<3\n",
    "\n",
    "list_a = [1, 2, 3, 4, 5]\n",
    "# map()를 이용해서 리스트 생성\n",
    "# output_a = map(power, list_a)\n",
    "# 람다를 이용한 함수 정의\n",
    "output_a = map(lambda x: x*x, list_a)\n",
    "print(output_a)\n",
    "output_list_a = list(output_a)\n",
    "print(output_list_a)\n",
    "\n",
    "# filter\n",
    "# output_b = filter(under_3, list_a)\n",
    "output_b = filter(lambda x: x<3, list_a)\n",
    "print(output_b)\n",
    "output_list_b = list(output_b)\n",
    "print(output_list_b)"
   ]
  },
  {
   "cell_type": "code",
   "execution_count": 56,
   "metadata": {},
   "outputs": [],
   "source": [
    "# open(): 파일 I/O 처리할 때 사용\n",
    "\n",
    "file = open('basic.txt', 'w') # w -> 쓰기 모드\n",
    "\n",
    "file.write('Hi~ Prince!')\n",
    "file.close()\n",
    "\n"
   ]
  },
  {
   "cell_type": "code",
   "execution_count": 57,
   "metadata": {},
   "outputs": [],
   "source": [
    "# with: open() 함수 사용 후 close() 함수를 자동으로 호출\n",
    "\n",
    "with open('basic.txt', 'w') as file:\n",
    "    file.write('Hi~~~~')"
   ]
  },
  {
   "cell_type": "code",
   "execution_count": 59,
   "metadata": {},
   "outputs": [
    {
     "name": "stdout",
     "output_type": "stream",
     "text": [
      "Hi~~~~\n",
      "<class 'str'>\n"
     ]
    }
   ],
   "source": [
    "# read(): 파일의 내용 텍스트 읽기 \n",
    "with open('basic.txt', 'r') as file: # 읽기 모드\n",
    "    content = file.read()\n",
    "    print(content)\n",
    "    print(type(content))"
   ]
  },
  {
   "cell_type": "code",
   "execution_count": 63,
   "metadata": {},
   "outputs": [
    {
     "name": "stdout",
     "output_type": "stream",
     "text": [
      "['가', '나', '다', '라', '마', '바', '사', '아', '자', '차', '카', '타', '파', '하']\n",
      "파일 생성 완료\n"
     ]
    }
   ],
   "source": [
    "import random\n",
    "# 리스트 생성\n",
    "han = list('가나다라마바사아자차카타파하')\n",
    "print(han)\n",
    "\n",
    "\n",
    "# 파일 생성\n",
    "with open('info.txt', 'w') as file:\n",
    " \n",
    "    for i in range(1000):\n",
    "        name = random.choice(han) + random.choice(han) + random.choice(han)\n",
    "        weight = random.randrange(50, 100)\n",
    "        height = random.randrange(150, 200)\n",
    "    \n",
    "        file.write('{}, {}, {}\\n'.format(name, weight, height))\n",
    "\n",
    "    print('파일 생성 완료')\n"
   ]
  },
  {
   "cell_type": "code",
   "execution_count": 86,
   "metadata": {},
   "outputs": [
    {
     "ename": "NameError",
     "evalue": "name 'heigh' is not defined",
     "output_type": "error",
     "traceback": [
      "\u001b[1;31m---------------------------------------------------------------------------\u001b[0m",
      "\u001b[1;31mNameError\u001b[0m                                 Traceback (most recent call last)",
      "\u001b[1;32m<ipython-input-86-51db4107cf5a>\u001b[0m in \u001b[0;36m<module>\u001b[1;34m\u001b[0m\n\u001b[0;32m     18\u001b[0m \u001b[1;33m\u001b[0m\u001b[0m\n\u001b[0;32m     19\u001b[0m         \u001b[1;31m# 비만도 계산\u001b[0m\u001b[1;33m\u001b[0m\u001b[1;33m\u001b[0m\u001b[1;33m\u001b[0m\u001b[0m\n\u001b[1;32m---> 20\u001b[1;33m         \u001b[0mbmi\u001b[0m \u001b[1;33m=\u001b[0m \u001b[0mint\u001b[0m\u001b[1;33m(\u001b[0m\u001b[0mweight\u001b[0m\u001b[1;33m)\u001b[0m\u001b[1;33m/\u001b[0m\u001b[1;33m(\u001b[0m\u001b[1;33m(\u001b[0m\u001b[1;33m(\u001b[0m\u001b[0mint\u001b[0m\u001b[1;33m(\u001b[0m\u001b[0mheight\u001b[0m\u001b[1;33m)\u001b[0m\u001b[1;33m)\u001b[0m\u001b[1;33m)\u001b[0m\u001b[1;33m/\u001b[0m\u001b[1;36m100\u001b[0m\u001b[1;33m*\u001b[0m\u001b[1;33m(\u001b[0m\u001b[1;33m(\u001b[0m\u001b[0mint\u001b[0m\u001b[1;33m(\u001b[0m\u001b[0mheigh\u001b[0m\u001b[1;33m)\u001b[0m\u001b[1;33m)\u001b[0m\u001b[1;33m)\u001b[0m\u001b[1;33m/\u001b[0m\u001b[1;36m100\u001b[0m\u001b[1;33m)\u001b[0m\u001b[1;33m\u001b[0m\u001b[1;33m\u001b[0m\u001b[0m\n\u001b[0m\u001b[0;32m     21\u001b[0m \u001b[1;33m\u001b[0m\u001b[0m\n\u001b[0;32m     22\u001b[0m         \u001b[0mresult\u001b[0m \u001b[1;33m=\u001b[0m \u001b[1;34m''\u001b[0m\u001b[1;33m\u001b[0m\u001b[1;33m\u001b[0m\u001b[0m\n",
      "\u001b[1;31mNameError\u001b[0m: name 'heigh' is not defined"
     ]
    }
   ],
   "source": [
    "with open('info.txt', 'r') as file:\n",
    "\n",
    "    cnt = 0;\n",
    "    \n",
    "    for line in file:\n",
    "        if cnt> 30:\n",
    "            break\n",
    "    \n",
    "       # print(line.strip()) # strip() -> 좌우 공백 제거\n",
    "        \n",
    "       # cnt +=1\n",
    "    \n",
    "        name, weight, height = line.strip().split(', ')\n",
    "        \n",
    "        # 변수의 값의 유무를 확인하고 값을 처리하지 않는 처리\n",
    "        if (not name) or (not weight) or (not height):\n",
    "            continue\n",
    "        \n",
    "        # 비만도 계산\n",
    "        bmi = int(weight)/(((int(height)))/100*((int(heigh)))/100)\n",
    "        \n",
    "        result = ''\n",
    "        \n",
    "        if bmi >= 25:\n",
    "            result='과체중'\n",
    "        elif bmi >= 18.5:\n",
    "            result='정상체중'\n",
    "        else:\n",
    "            result ='저체중'\n",
    "        \n",
    "        print('{}, {}, {}, {}, {}'.format(name, weight, height, bmi, result))\n",
    "        "
   ]
  },
  {
   "cell_type": "code",
   "execution_count": null,
   "metadata": {},
   "outputs": [],
   "source": []
  },
  {
   "cell_type": "code",
   "execution_count": null,
   "metadata": {},
   "outputs": [],
   "source": []
  },
  {
   "cell_type": "code",
   "execution_count": null,
   "metadata": {},
   "outputs": [],
   "source": []
  },
  {
   "cell_type": "code",
   "execution_count": null,
   "metadata": {},
   "outputs": [],
   "source": []
  },
  {
   "cell_type": "code",
   "execution_count": null,
   "metadata": {},
   "outputs": [],
   "source": []
  }
 ],
 "metadata": {
  "kernelspec": {
   "display_name": "Python 3",
   "language": "python",
   "name": "python3"
  },
  "language_info": {
   "codemirror_mode": {
    "name": "ipython",
    "version": 3
   },
   "file_extension": ".py",
   "mimetype": "text/x-python",
   "name": "python",
   "nbconvert_exporter": "python",
   "pygments_lexer": "ipython3",
   "version": "3.8.5"
  }
 },
 "nbformat": 4,
 "nbformat_minor": 4
}

{
 "cells": [
  {
   "cell_type": "code",
   "execution_count": null,
   "metadata": {},
   "outputs": [],
   "source": [
    "try:\n",
    "    number_input_a = int(input('정수를 입력해주세요. >> '))\n",
    "    print(\"제곱의 연산 결과: \" , number_input_a*number_input_a)\n",
    "except: # 어떤 예외이던지 예외가 발생하면 이곳에서 처리\n",
    "    print('예외가 발생했습니다.')"
   ]
  },
  {
   "cell_type": "code",
   "execution_count": null,
   "metadata": {},
   "outputs": [],
   "source": [
    "try:\n",
    "    number_input_a = int(input('정수를 입력해주세요. >> '))\n",
    "    print(\"제곱의 연산 결과: \" , number_input_a*number_input_a)\n",
    "except: # 어떤 예외이던지 예외가 발생하면 이곳에서 처리\n",
    "    pass # 처리할 내용이 없을 때 기술\n",
    "\n",
    "\n",
    "  \n",
    "    \n",
    "    "
   ]
  },
  {
   "cell_type": "code",
   "execution_count": null,
   "metadata": {},
   "outputs": [],
   "source": [
    "try:\n",
    "    # 예외 발생 예상 코드\n",
    "    number_input_a = int(input('정수를 입력해주세요. >> '))\n",
    "    \n",
    "except: # 어떤 예외이던지 예외가 발생하면 이곳에서 처리\n",
    "   # pass # 처리할 내용이 없을 때 기술\n",
    "    print('예외가 발생했습니다.')\n",
    "else:\n",
    "    # 예외가 발생하지 않았을 때 처리 구문\n",
    "    print(\"제곱의 연산 결과: \" , number_input_a*number_input_a)"
   ]
  },
  {
   "cell_type": "code",
   "execution_count": null,
   "metadata": {},
   "outputs": [],
   "source": [
    "try:\n",
    "    # 예외 발생 예상 코드\n",
    "    number_input_a = int(input('정수를 입력해주세요. >> '))\n",
    "    \n",
    "except: # 어떤 예외이던지 예외가 발생하면 이곳에서 처리\n",
    "   # pass # 처리할 내용이 없을 때 기술\n",
    "    print('예외가 발생했습니다.')\n",
    "else:\n",
    "    # 예외가 발생하지 않았을 때 처리 구문\n",
    "    print(\"제곱의 연산 결과: \" , number_input_a*number_input_a)\n",
    "    \n",
    "finally:\n",
    "    print(\"일단 프로그램이 어떻게든 끝났습니다.\")"
   ]
  },
  {
   "cell_type": "code",
   "execution_count": 3,
   "metadata": {},
   "outputs": [
    {
     "name": "stdout",
     "output_type": "stream",
     "text": [
      "정수를 입력해주세요. >> 일\n",
      "예외가 발생했습니다.\n",
      "<class 'ValueError'>\n",
      "invalid literal for int() with base 10: '일'\n",
      "프로그램을 종료합니다.\n"
     ]
    }
   ],
   "source": [
    "try:\n",
    "    # 예외 발생 예상 코드\n",
    "    number_input_a = int(input('정수를 입력해주세요. >> '))\n",
    "    \n",
    "except Exception as e: # 어떤 예외이던지 예외가 발생하면 이곳에서 처리\n",
    "   # pass # 처리할 내용이 없을 때 기술\n",
    "    print('예외가 발생했습니다.')\n",
    "    print(type(e))\n",
    "    print(e)\n",
    "else:\n",
    "    # 예외가 발생하지 않았을 때 처리 구문\n",
    "    print(\"제곱의 연산 결과: \" , number_input_a*number_input_a)\n",
    "    \n",
    "finally:\n",
    "    print('프로그램을 종료합니다.')"
   ]
  },
  {
   "cell_type": "code",
   "execution_count": 5,
   "metadata": {},
   "outputs": [
    {
     "name": "stdout",
     "output_type": "stream",
     "text": [
      "리스트의 index를 입력하세요. >>10\n",
      "리스트의 범위를 벗어난 인덱스 값입니다.\n",
      "list index out of range\n"
     ]
    }
   ],
   "source": [
    "list_a = [10, 20, 30, 40, 50]\n",
    "\n",
    "try: \n",
    "    idx = int(input('리스트의 index를 입력하세요. >>')) # 예외 발생 예상 구문\n",
    "    print('{} 번재 요소 : {}'.format(idx, list_a[idx])) # 예외 발생 예상 구문\n",
    "except ValueError as ve:\n",
    "    print('숫자만 입력해주세요.')\n",
    "    print(ve)\n",
    "except IndexError as ie: \n",
    "    print('리스트의 범위를 벗어난 인덱스 값입니다.')\n",
    "    print(ie)"
   ]
  },
  {
   "cell_type": "code",
   "execution_count": null,
   "metadata": {},
   "outputs": [],
   "source": []
  },
  {
   "cell_type": "code",
   "execution_count": null,
   "metadata": {},
   "outputs": [],
   "source": []
  },
  {
   "cell_type": "code",
   "execution_count": null,
   "metadata": {},
   "outputs": [],
   "source": []
  },
  {
   "cell_type": "code",
   "execution_count": null,
   "metadata": {},
   "outputs": [],
   "source": []
  },
  {
   "cell_type": "code",
   "execution_count": null,
   "metadata": {},
   "outputs": [],
   "source": []
  },
  {
   "cell_type": "code",
   "execution_count": null,
   "metadata": {},
   "outputs": [],
   "source": []
  },
  {
   "cell_type": "code",
   "execution_count": null,
   "metadata": {},
   "outputs": [],
   "source": []
  },
  {
   "cell_type": "code",
   "execution_count": null,
   "metadata": {},
   "outputs": [],
   "source": []
  }
 ],
 "metadata": {
  "kernelspec": {
   "display_name": "Python 3",
   "language": "python",
   "name": "python3"
  }
 },
 "nbformat": 4,
 "nbformat_minor": 4
}
